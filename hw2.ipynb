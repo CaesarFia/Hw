{
 "cells": [
  {
   "cell_type": "markdown",
   "metadata": {},
   "source": [
    "# Homework 2\n",
    "\n",
    "(Total: 50pt)\n",
    "\n",
    "This is an individual assignment.\n",
    "Related knowledge:\n",
    "- Bayes theorem\n",
    "- Independence\n",
    "- Combinatorics\n"
   ]
  },
  {
   "cell_type": "markdown",
   "metadata": {},
   "source": [
    "## Problem 1\n",
    "\n",
    "(20 pt)\n",
    "\n",
    "Implement a function to evaluate the relative frequency of a batch being accepted if it contains $k$ defectives.\n",
    "\n",
    "A batch of one hundred items is inspected by testing four randomly selected items.\n",
    "If one of the four is defective, the batch is rejected. What is the probability that the batch is\n",
    "accepted if it contains five defectives?"
   ]
  },
  {
   "cell_type": "code",
   "execution_count": 13,
   "metadata": {},
   "outputs": [],
   "source": [
    "import random\n",
    "import numpy as np\n",
    "import numpy.random as npr\n",
    "def rejectk(k=5, batchnum=100): #k= the number of defectives in the batch\n",
    "    num_sims = 1000\n",
    "    num_rejected = 0\n",
    "    # Create a list of items using booleans, 0 for non-defective, 1 for defective, that represets the batch.\n",
    "    count = k\n",
    "    batch = [0]*batchnum\n",
    "    for i in range(100):\n",
    "        c = random.choices([1,0],weights = [k/batchnum,1-k/batchnum])\n",
    "        if(count > 0 and c[0] == 1):\n",
    "            batch[i] = 1\n",
    "            count -= 1\n",
    "    print(batch)\n",
    "\n",
    "\n",
    "    for sim in range(num_sims):\n",
    "         # implement sampling from the batch.\n",
    "        k = random.sample(batch,4)\n",
    "        for i in range(4):\n",
    "            if k[i] == 1:\n",
    "                num_rejected += 1\n",
    "        # determine if it shall be rejected.\n",
    "    return num_rejected/num_sims\n",
    "    #calculate and print out the relative frequency."
   ]
  },
  {
   "cell_type": "markdown",
   "metadata": {},
   "source": [
    "## Problem 2\n",
    "\n",
    "(20 pt)\n",
    "\n",
    "**Suppose you have an assortment of coins: 51 coins each with probability of flipping heads $p$, in the interval $[0.3,0.8]$, defined below:**"
   ]
  },
  {
   "cell_type": "code",
   "execution_count": 18,
   "metadata": {},
   "outputs": [
    {
     "data": {
      "text/plain": [
       "array([0.3 , 0.31, 0.32, 0.33, 0.34, 0.35, 0.36, 0.37, 0.38, 0.39, 0.4 ,\n",
       "       0.41, 0.42, 0.43, 0.44, 0.45, 0.46, 0.47, 0.48, 0.49, 0.5 , 0.51,\n",
       "       0.52, 0.53, 0.54, 0.55, 0.56, 0.57, 0.58, 0.59, 0.6 , 0.61, 0.62,\n",
       "       0.63, 0.64, 0.65, 0.66, 0.67, 0.68, 0.69, 0.7 , 0.71, 0.72, 0.73,\n",
       "       0.74, 0.75, 0.76, 0.77, 0.78, 0.79, 0.8 ])"
      ]
     },
     "execution_count": 18,
     "metadata": {},
     "output_type": "execute_result"
    }
   ],
   "source": [
    "import numpy as np\n",
    "import random\n",
    "allcoins = np.linspace(0.3,0.8,51)  # set of coins\n",
    "\n",
    "allcoins"
   ]
  },
  {
   "cell_type": "markdown",
   "metadata": {},
   "source": [
    "Consider the experiment where you pick a coin at random and flip it 8 times, and the event \"all tails\" occurs. \n",
    "\n",
    " **What is the probability that the coin has a probability of tail smaller than 0.5?**\n",
    " \n",
    "Implement simulation to evaluate the relative frequency\n"
   ]
  },
  {
   "cell_type": "code",
   "execution_count": 23,
   "metadata": {},
   "outputs": [
    {
     "name": "stdout",
     "output_type": "stream",
     "text": [
      "The Probability that the coin has a probability of tail smaller than 0.5 and rolled T 8 times is 0.00043\n"
     ]
    }
   ],
   "source": [
    "num_sims = 100000\n",
    "count2 = 0\n",
    "for i in range(num_sims):\n",
    "    count = 0\n",
    "    x = random.choice(allcoins)\n",
    "    y = random.choices([\"H\",\"T\"], weights = [x,1-x],k = 8)\n",
    "    for j in range(8):\n",
    "        if y[j] == \"T\":\n",
    "            count += 1\n",
    "    if count == 8 and 1-x < .5:\n",
    "        count2 += 1\n",
    "print(\"The Probability that the coin has a probability of tail smaller than 0.5 and rolled Tails 8 times is\", count2/num_sims )"
   ]
  },
  {
   "cell_type": "markdown",
   "metadata": {},
   "source": [
    "## Problem 3\n",
    "\n",
    "(5 pt)\n",
    "Using python to perform the counting\n",
    "\n",
    "\n",
    "How many ways can one arrange 4 math books, 3 chemistry books, 2 physics\n",
    "books, and 1 biology book on a bookshelf so that all the math books are together, all the\n",
    "chemistry books are together, and all the physics books are together?"
   ]
  },
  {
   "cell_type": "code",
   "execution_count": null,
   "metadata": {},
   "outputs": [],
   "source": [
    "from scipy.special import factorial\n",
    "result = factorial(4)*factorial(3)*factorial(2)*factorial(4)"
   ]
  },
  {
   "cell_type": "markdown",
   "metadata": {},
   "source": [
    "## Problem 4\n",
    "(5 pt) Using python to perform the counting\n",
    "\n",
    "Suppose there are 10 men and 8 women. How many ways can we choose a committee that has 2 men and 2 women? "
   ]
  },
  {
   "cell_type": "code",
   "execution_count": 14,
   "metadata": {},
   "outputs": [
    {
     "data": {
      "text/plain": [
       "5040.0"
      ]
     },
     "execution_count": 14,
     "metadata": {},
     "output_type": "execute_result"
    }
   ],
   "source": [
    "from scipy.special import factorial\n",
    "result = (factorial(10)/(factorial(10-2)))*(factorial(8)/(factorial(8-2)))\n",
    "result"
   ]
  },
  {
   "cell_type": "markdown",
   "metadata": {},
   "source": [
    "# Submit Your Solutions\n",
    "\n",
    "Confirm that you've successfully completed the assignment.\n",
    "submit both the notebook files and a PDF printout"
   ]
  },
  {
   "cell_type": "code",
   "execution_count": null,
   "metadata": {},
   "outputs": [],
   "source": []
  }
 ],
 "metadata": {
  "kernelspec": {
   "display_name": "Python 3 (ipykernel)",
   "language": "python",
   "name": "python3"
  },
  "language_info": {
   "codemirror_mode": {
    "name": "ipython",
    "version": 3
   },
   "file_extension": ".py",
   "mimetype": "text/x-python",
   "name": "python",
   "nbconvert_exporter": "python",
   "pygments_lexer": "ipython3",
   "version": "3.11.5"
  },
  "latex_envs": {
   "LaTeX_envs_menu_present": true,
   "autoclose": false,
   "autocomplete": true,
   "bibliofile": "biblio.bib",
   "cite_by": "apalike",
   "current_citInitial": 1,
   "eqLabelWithNumbers": true,
   "eqNumInitial": 1,
   "hotkeys": {
    "equation": "Ctrl-E",
    "itemize": "Ctrl-I"
   },
   "labels_anchors": false,
   "latex_user_defs": false,
   "report_style_numbering": false,
   "user_envs_cfg": false
  },
  "varInspector": {
   "cols": {
    "lenName": 16,
    "lenType": 16,
    "lenVar": 40
   },
   "kernels_config": {
    "python": {
     "delete_cmd_postfix": "",
     "delete_cmd_prefix": "del ",
     "library": "var_list.py",
     "varRefreshCmd": "print(var_dic_list())"
    },
    "r": {
     "delete_cmd_postfix": ") ",
     "delete_cmd_prefix": "rm(",
     "library": "var_list.r",
     "varRefreshCmd": "cat(var_dic_list()) "
    }
   },
   "types_to_exclude": [
    "module",
    "function",
    "builtin_function_or_method",
    "instance",
    "_Feature"
   ],
   "window_display": false
  }
 },
 "nbformat": 4,
 "nbformat_minor": 4
}
